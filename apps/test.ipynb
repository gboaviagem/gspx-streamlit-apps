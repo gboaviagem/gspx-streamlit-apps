{
 "cells": [
  {
   "cell_type": "code",
   "execution_count": null,
   "metadata": {},
   "outputs": [],
   "source": [
    "\"\"\"The QGFT in Hermitian and symmetric graphs.\"\"\"\n",
    "import sys\n",
    "import os\n",
    "import pathlib\n",
    "pdir = os.getcwd()\n",
    "\n",
    "# Adding the gspx folder to the Python path\n",
    "sys.path.insert(0, str(pdir).split(\"gspx\")[0] + \"/gspx\")\n",
    "\n",
    "import numpy as np\n",
    "import matplotlib.pyplot as plt\n",
    "import streamlit as st\n",
    "\n",
    "from gspx.datasets import WeatherGraphData\n",
    "from gspx.signals import QuaternionSignal\n",
    "from gspx.adaptive import QLMS\n",
    "from gspx.qgsp import QGFT, QMatrix\n",
    "from gspx.utils.display import plot_quaternion_graph_signal, plot_graph\n",
    "from io import BytesIO\n",
    "\n",
    "data = WeatherGraphData(n_neighbors=7, england_only=True)\n",
    "Ar, coords = data.graph\n",
    "s = data.signal\n",
    "df = data.data\n",
    "Aq = data.quaternion_adjacency_matrix(hermitian=False)"
   ]
  }
 ],
 "metadata": {
  "kernelspec": {
   "display_name": "Python 3.7.11 ('gspx')",
   "language": "python",
   "name": "python3"
  },
  "language_info": {
   "codemirror_mode": {
    "name": "ipython",
    "version": 3
   },
   "file_extension": ".py",
   "mimetype": "text/x-python",
   "name": "python",
   "nbconvert_exporter": "python",
   "pygments_lexer": "ipython3",
   "version": "3.7.11"
  },
  "orig_nbformat": 4,
  "vscode": {
   "interpreter": {
    "hash": "ad7b04062b11f2f32ad39128cacc2a2bd2b4eeeabc2c58ebe8810cf900e3775b"
   }
  }
 },
 "nbformat": 4,
 "nbformat_minor": 2
}
